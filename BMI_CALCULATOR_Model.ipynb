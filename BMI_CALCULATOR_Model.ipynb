{
  "nbformat": 4,
  "nbformat_minor": 0,
  "metadata": {
    "colab": {
      "name": "BMI CALCULATOR Model.ipynb",
      "provenance": [],
      "authorship_tag": "ABX9TyOcQJgNstzV75yKeBzdFg9W",
      "include_colab_link": true
    },
    "kernelspec": {
      "name": "python3",
      "display_name": "Python 3"
    }
  },
  "cells": [
    {
      "cell_type": "markdown",
      "metadata": {
        "id": "view-in-github",
        "colab_type": "text"
      },
      "source": [
        "<a href=\"https://colab.research.google.com/github/AashiDutt/BMI_CALCULATOR/blob/master/BMI_CALCULATOR_Model.ipynb\" target=\"_parent\"><img src=\"https://colab.research.google.com/assets/colab-badge.svg\" alt=\"Open In Colab\"/></a>"
      ]
    },
    {
      "cell_type": "code",
      "metadata": {
        "id": "2wqCSj1P2K1H",
        "colab_type": "code",
        "colab": {
          "base_uri": "https://localhost:8080/",
          "height": 35
        },
        "outputId": "5346d80b-8bd5-4106-b9fa-14859960c386"
      },
      "source": [
        "import tensorflow as tf\n",
        "tf.__version__"
      ],
      "execution_count": 1,
      "outputs": [
        {
          "output_type": "execute_result",
          "data": {
            "application/vnd.google.colaboratory.intrinsic+json": {
              "type": "string"
            },
            "text/plain": [
              "'2.2.0'"
            ]
          },
          "metadata": {
            "tags": []
          },
          "execution_count": 1
        }
      ]
    },
    {
      "cell_type": "code",
      "metadata": {
        "id": "AZS0rzJK2QPc",
        "colab_type": "code",
        "colab": {}
      },
      "source": [
        "\n",
        "from tensorflow.keras.models import Sequential\n",
        "from tensorflow.keras.layers import Dense\n",
        "from sklearn.preprocessing import StandardScaler\n",
        "from sklearn.model_selection import train_test_split\n",
        "from sklearn.metrics import accuracy_score"
      ],
      "execution_count": 70,
      "outputs": []
    },
    {
      "cell_type": "code",
      "metadata": {
        "id": "ZuGjaGEp2ZaZ",
        "colab_type": "code",
        "colab": {}
      },
      "source": [
        "model = Sequential([\n",
        "                    \n",
        "                    Dense(kernel_initializer = 'uniform', input_dim = 2, units = 10, activation = 'relu'),\n",
        "                    Dense(kernel_initializer = 'uniform', units = 6,  activation = 'softmax')\n",
        "])"
      ],
      "execution_count": 55,
      "outputs": []
    },
    {
      "cell_type": "code",
      "metadata": {
        "id": "yvjSgpGt2_Ls",
        "colab_type": "code",
        "colab": {
          "base_uri": "https://localhost:8080/",
          "height": 218
        },
        "outputId": "2fcf8141-c83f-4a97-eea6-fc1c394bbcc5"
      },
      "source": [
        "model.summary()"
      ],
      "execution_count": 56,
      "outputs": [
        {
          "output_type": "stream",
          "text": [
            "Model: \"sequential_3\"\n",
            "_________________________________________________________________\n",
            "Layer (type)                 Output Shape              Param #   \n",
            "=================================================================\n",
            "dense_5 (Dense)              (None, 10)                30        \n",
            "_________________________________________________________________\n",
            "dense_6 (Dense)              (None, 6)                 66        \n",
            "=================================================================\n",
            "Total params: 96\n",
            "Trainable params: 96\n",
            "Non-trainable params: 0\n",
            "_________________________________________________________________\n"
          ],
          "name": "stdout"
        }
      ]
    },
    {
      "cell_type": "code",
      "metadata": {
        "id": "u2GbCPTg3Iwi",
        "colab_type": "code",
        "colab": {}
      },
      "source": [
        "\n",
        "model.compile(\n",
        "    optimizer = 'adam',\n",
        "    loss= 'categorical_crossentropy',\n",
        "    metrics=['accuracy']\n",
        ")"
      ],
      "execution_count": 57,
      "outputs": []
    },
    {
      "cell_type": "code",
      "metadata": {
        "id": "5dUU5dMU3mC6",
        "colab_type": "code",
        "colab": {
          "base_uri": "https://localhost:8080/",
          "height": 67
        },
        "outputId": "55c72d44-d4e9-4fc3-8b78-294f70e6db65"
      },
      "source": [
        "print(model.loss)\n",
        "print(model.optimizer)\n",
        "print(model.metrics)"
      ],
      "execution_count": 58,
      "outputs": [
        {
          "output_type": "stream",
          "text": [
            "categorical_crossentropy\n",
            "<tensorflow.python.keras.optimizer_v2.adam.Adam object at 0x7fd9bb5b2da0>\n",
            "[]\n"
          ],
          "name": "stdout"
        }
      ]
    },
    {
      "cell_type": "code",
      "metadata": {
        "id": "ZVjhda253yzl",
        "colab_type": "code",
        "colab": {}
      },
      "source": [
        "# from tensorflow.keras.preprocessing import image\n",
        "import matplotlib.pyplot as plt\n",
        "import numpy as np\n",
        "import pandas as pd"
      ],
      "execution_count": 59,
      "outputs": []
    },
    {
      "cell_type": "code",
      "metadata": {
        "id": "Thz8Q0Pw6yVn",
        "colab_type": "code",
        "colab": {}
      },
      "source": [
        "dataset = pd.read_csv(\"500_Person_Gender_Height_Weight_Index.csv\",delimiter=\",\")\n"
      ],
      "execution_count": 60,
      "outputs": []
    },
    {
      "cell_type": "code",
      "metadata": {
        "id": "RpjVECMO7tH6",
        "colab_type": "code",
        "colab": {
          "base_uri": "https://localhost:8080/",
          "height": 195
        },
        "outputId": "400eaf1a-d214-4213-910e-539bae5c79d3"
      },
      "source": [
        "dataset.head()"
      ],
      "execution_count": 61,
      "outputs": [
        {
          "output_type": "execute_result",
          "data": {
            "text/html": [
              "<div>\n",
              "<style scoped>\n",
              "    .dataframe tbody tr th:only-of-type {\n",
              "        vertical-align: middle;\n",
              "    }\n",
              "\n",
              "    .dataframe tbody tr th {\n",
              "        vertical-align: top;\n",
              "    }\n",
              "\n",
              "    .dataframe thead th {\n",
              "        text-align: right;\n",
              "    }\n",
              "</style>\n",
              "<table border=\"1\" class=\"dataframe\">\n",
              "  <thead>\n",
              "    <tr style=\"text-align: right;\">\n",
              "      <th></th>\n",
              "      <th>Gender</th>\n",
              "      <th>Height</th>\n",
              "      <th>Weight</th>\n",
              "      <th>Index</th>\n",
              "    </tr>\n",
              "  </thead>\n",
              "  <tbody>\n",
              "    <tr>\n",
              "      <th>0</th>\n",
              "      <td>Male</td>\n",
              "      <td>174</td>\n",
              "      <td>96</td>\n",
              "      <td>4</td>\n",
              "    </tr>\n",
              "    <tr>\n",
              "      <th>1</th>\n",
              "      <td>Male</td>\n",
              "      <td>189</td>\n",
              "      <td>87</td>\n",
              "      <td>2</td>\n",
              "    </tr>\n",
              "    <tr>\n",
              "      <th>2</th>\n",
              "      <td>Female</td>\n",
              "      <td>185</td>\n",
              "      <td>110</td>\n",
              "      <td>4</td>\n",
              "    </tr>\n",
              "    <tr>\n",
              "      <th>3</th>\n",
              "      <td>Female</td>\n",
              "      <td>195</td>\n",
              "      <td>104</td>\n",
              "      <td>3</td>\n",
              "    </tr>\n",
              "    <tr>\n",
              "      <th>4</th>\n",
              "      <td>Male</td>\n",
              "      <td>149</td>\n",
              "      <td>61</td>\n",
              "      <td>3</td>\n",
              "    </tr>\n",
              "  </tbody>\n",
              "</table>\n",
              "</div>"
            ],
            "text/plain": [
              "   Gender  Height  Weight  Index\n",
              "0    Male     174      96      4\n",
              "1    Male     189      87      2\n",
              "2  Female     185     110      4\n",
              "3  Female     195     104      3\n",
              "4    Male     149      61      3"
            ]
          },
          "metadata": {
            "tags": []
          },
          "execution_count": 61
        }
      ]
    },
    {
      "cell_type": "code",
      "metadata": {
        "id": "FVq5t1kb9UjF",
        "colab_type": "code",
        "colab": {}
      },
      "source": [
        "attribute_array = dataset.iloc[:,1:3].values\n",
        "index_array = dataset.iloc[:,3].values"
      ],
      "execution_count": 62,
      "outputs": []
    },
    {
      "cell_type": "code",
      "metadata": {
        "id": "usZ7uiED-UJd",
        "colab_type": "code",
        "colab": {}
      },
      "source": [
        "from sklearn.preprocessing import LabelEncoder\n",
        "from keras.utils import np_utils"
      ],
      "execution_count": 63,
      "outputs": []
    },
    {
      "cell_type": "code",
      "metadata": {
        "id": "h4wIPETn99B1",
        "colab_type": "code",
        "colab": {}
      },
      "source": [
        "encoder = LabelEncoder()\n",
        "index_array = encoder.fit_transform(index_array)\n",
        "index_array = np_utils.to_categorical(index_array)"
      ],
      "execution_count": 64,
      "outputs": []
    },
    {
      "cell_type": "code",
      "metadata": {
        "id": "y_qKgo74-PzJ",
        "colab_type": "code",
        "colab": {}
      },
      "source": [
        "attribute_array_train, attribute_array_test, index_array_train, index_array_test = train_test_split(attribute_array, index_array, test_size=0.05, random_state=1)"
      ],
      "execution_count": 65,
      "outputs": []
    },
    {
      "cell_type": "code",
      "metadata": {
        "id": "Xl4HFKWB-rU7",
        "colab_type": "code",
        "colab": {}
      },
      "source": [
        "scaler = StandardScaler()\n",
        "attribute_array_train = scaler.fit_transform(attribute_array_train)"
      ],
      "execution_count": 66,
      "outputs": []
    },
    {
      "cell_type": "code",
      "metadata": {
        "id": "Xe3MKqyc-upX",
        "colab_type": "code",
        "colab": {
          "base_uri": "https://localhost:8080/",
          "height": 1000
        },
        "outputId": "54f9a3aa-fc87-42df-8f84-600cdc9056b8"
      },
      "source": [
        "model.fit(attribute_array_train,index_array_train,batch_size= 1,epochs = 100,verbose = 1)"
      ],
      "execution_count": 67,
      "outputs": [
        {
          "output_type": "stream",
          "text": [
            "Epoch 1/100\n",
            "475/475 [==============================] - 0s 951us/step - loss: 1.5015 - accuracy: 0.4442\n",
            "Epoch 2/100\n",
            "475/475 [==============================] - 0s 994us/step - loss: 0.9991 - accuracy: 0.5979\n",
            "Epoch 3/100\n",
            "475/475 [==============================] - 0s 913us/step - loss: 0.8372 - accuracy: 0.6947\n",
            "Epoch 4/100\n",
            "475/475 [==============================] - 0s 951us/step - loss: 0.7475 - accuracy: 0.7411\n",
            "Epoch 5/100\n",
            "475/475 [==============================] - 0s 1ms/step - loss: 0.6842 - accuracy: 0.7853\n",
            "Epoch 6/100\n",
            "475/475 [==============================] - 0s 932us/step - loss: 0.6345 - accuracy: 0.8000\n",
            "Epoch 7/100\n",
            "475/475 [==============================] - 0s 914us/step - loss: 0.5900 - accuracy: 0.8463\n",
            "Epoch 8/100\n",
            "475/475 [==============================] - 0s 975us/step - loss: 0.5545 - accuracy: 0.8295\n",
            "Epoch 9/100\n",
            "475/475 [==============================] - 0s 942us/step - loss: 0.5234 - accuracy: 0.8674\n",
            "Epoch 10/100\n",
            "475/475 [==============================] - 0s 952us/step - loss: 0.5005 - accuracy: 0.8653\n",
            "Epoch 11/100\n",
            "475/475 [==============================] - 0s 932us/step - loss: 0.4772 - accuracy: 0.8589\n",
            "Epoch 12/100\n",
            "475/475 [==============================] - 0s 915us/step - loss: 0.4601 - accuracy: 0.8758\n",
            "Epoch 13/100\n",
            "475/475 [==============================] - 0s 926us/step - loss: 0.4441 - accuracy: 0.8968\n",
            "Epoch 14/100\n",
            "475/475 [==============================] - 0s 918us/step - loss: 0.4320 - accuracy: 0.8821\n",
            "Epoch 15/100\n",
            "475/475 [==============================] - 0s 940us/step - loss: 0.4187 - accuracy: 0.8968\n",
            "Epoch 16/100\n",
            "475/475 [==============================] - 0s 945us/step - loss: 0.4087 - accuracy: 0.8926\n",
            "Epoch 17/100\n",
            "475/475 [==============================] - 0s 932us/step - loss: 0.3974 - accuracy: 0.9032\n",
            "Epoch 18/100\n",
            "475/475 [==============================] - 0s 919us/step - loss: 0.3887 - accuracy: 0.9095\n",
            "Epoch 19/100\n",
            "475/475 [==============================] - 0s 923us/step - loss: 0.3808 - accuracy: 0.9032\n",
            "Epoch 20/100\n",
            "475/475 [==============================] - 0s 943us/step - loss: 0.3737 - accuracy: 0.9053\n",
            "Epoch 21/100\n",
            "475/475 [==============================] - 0s 943us/step - loss: 0.3673 - accuracy: 0.9095\n",
            "Epoch 22/100\n",
            "475/475 [==============================] - 0s 949us/step - loss: 0.3611 - accuracy: 0.9158\n",
            "Epoch 23/100\n",
            "475/475 [==============================] - 0s 933us/step - loss: 0.3573 - accuracy: 0.9011\n",
            "Epoch 24/100\n",
            "475/475 [==============================] - 0s 982us/step - loss: 0.3518 - accuracy: 0.9074\n",
            "Epoch 25/100\n",
            "475/475 [==============================] - 0s 982us/step - loss: 0.3484 - accuracy: 0.9074\n",
            "Epoch 26/100\n",
            "475/475 [==============================] - 0s 944us/step - loss: 0.3421 - accuracy: 0.9137\n",
            "Epoch 27/100\n",
            "475/475 [==============================] - 0s 946us/step - loss: 0.3386 - accuracy: 0.9158\n",
            "Epoch 28/100\n",
            "475/475 [==============================] - 0s 932us/step - loss: 0.3356 - accuracy: 0.9095\n",
            "Epoch 29/100\n",
            "475/475 [==============================] - 0s 996us/step - loss: 0.3330 - accuracy: 0.9200\n",
            "Epoch 30/100\n",
            "475/475 [==============================] - 0s 991us/step - loss: 0.3292 - accuracy: 0.9116\n",
            "Epoch 31/100\n",
            "475/475 [==============================] - 0s 926us/step - loss: 0.3263 - accuracy: 0.9200\n",
            "Epoch 32/100\n",
            "475/475 [==============================] - 0s 908us/step - loss: 0.3239 - accuracy: 0.9200\n",
            "Epoch 33/100\n",
            "475/475 [==============================] - 0s 924us/step - loss: 0.3202 - accuracy: 0.9137\n",
            "Epoch 34/100\n",
            "475/475 [==============================] - 0s 918us/step - loss: 0.3182 - accuracy: 0.9305\n",
            "Epoch 35/100\n",
            "475/475 [==============================] - 0s 929us/step - loss: 0.3181 - accuracy: 0.9179\n",
            "Epoch 36/100\n",
            "475/475 [==============================] - 0s 914us/step - loss: 0.3143 - accuracy: 0.9263\n",
            "Epoch 37/100\n",
            "475/475 [==============================] - 0s 919us/step - loss: 0.3116 - accuracy: 0.9074\n",
            "Epoch 38/100\n",
            "475/475 [==============================] - 0s 952us/step - loss: 0.3095 - accuracy: 0.9200\n",
            "Epoch 39/100\n",
            "475/475 [==============================] - 0s 934us/step - loss: 0.3049 - accuracy: 0.9179\n",
            "Epoch 40/100\n",
            "475/475 [==============================] - 0s 935us/step - loss: 0.3043 - accuracy: 0.9179\n",
            "Epoch 41/100\n",
            "475/475 [==============================] - 0s 926us/step - loss: 0.3026 - accuracy: 0.9179\n",
            "Epoch 42/100\n",
            "475/475 [==============================] - 0s 982us/step - loss: 0.3011 - accuracy: 0.9305\n",
            "Epoch 43/100\n",
            "475/475 [==============================] - 0s 912us/step - loss: 0.2990 - accuracy: 0.9095\n",
            "Epoch 44/100\n",
            "475/475 [==============================] - 0s 925us/step - loss: 0.2963 - accuracy: 0.9179\n",
            "Epoch 45/100\n",
            "475/475 [==============================] - 0s 939us/step - loss: 0.2963 - accuracy: 0.9284\n",
            "Epoch 46/100\n",
            "475/475 [==============================] - 0s 921us/step - loss: 0.2941 - accuracy: 0.9116\n",
            "Epoch 47/100\n",
            "475/475 [==============================] - 0s 943us/step - loss: 0.2929 - accuracy: 0.9284\n",
            "Epoch 48/100\n",
            "475/475 [==============================] - 0s 945us/step - loss: 0.2905 - accuracy: 0.9284\n",
            "Epoch 49/100\n",
            "475/475 [==============================] - 0s 957us/step - loss: 0.2904 - accuracy: 0.9242\n",
            "Epoch 50/100\n",
            "475/475 [==============================] - 0s 933us/step - loss: 0.2880 - accuracy: 0.9284\n",
            "Epoch 51/100\n",
            "475/475 [==============================] - 0s 925us/step - loss: 0.2868 - accuracy: 0.9326\n",
            "Epoch 52/100\n",
            "475/475 [==============================] - 0s 943us/step - loss: 0.2814 - accuracy: 0.9326\n",
            "Epoch 53/100\n",
            "475/475 [==============================] - 0s 928us/step - loss: 0.2841 - accuracy: 0.9326\n",
            "Epoch 54/100\n",
            "475/475 [==============================] - 0s 943us/step - loss: 0.2840 - accuracy: 0.9453\n",
            "Epoch 55/100\n",
            "475/475 [==============================] - 0s 1ms/step - loss: 0.2814 - accuracy: 0.9263\n",
            "Epoch 56/100\n",
            "475/475 [==============================] - 0s 931us/step - loss: 0.2799 - accuracy: 0.9368\n",
            "Epoch 57/100\n",
            "475/475 [==============================] - 0s 904us/step - loss: 0.2793 - accuracy: 0.9326\n",
            "Epoch 58/100\n",
            "475/475 [==============================] - 0s 932us/step - loss: 0.2761 - accuracy: 0.9284\n",
            "Epoch 59/100\n",
            "475/475 [==============================] - 0s 914us/step - loss: 0.2761 - accuracy: 0.9284\n",
            "Epoch 60/100\n",
            "475/475 [==============================] - 0s 959us/step - loss: 0.2754 - accuracy: 0.9305\n",
            "Epoch 61/100\n",
            "475/475 [==============================] - 0s 924us/step - loss: 0.2729 - accuracy: 0.9368\n",
            "Epoch 62/100\n",
            "475/475 [==============================] - 0s 949us/step - loss: 0.2720 - accuracy: 0.9326\n",
            "Epoch 63/100\n",
            "475/475 [==============================] - 0s 914us/step - loss: 0.2715 - accuracy: 0.9389\n",
            "Epoch 64/100\n",
            "475/475 [==============================] - 0s 928us/step - loss: 0.2685 - accuracy: 0.9200\n",
            "Epoch 65/100\n",
            "475/475 [==============================] - 0s 937us/step - loss: 0.2691 - accuracy: 0.9432\n",
            "Epoch 66/100\n",
            "475/475 [==============================] - 0s 920us/step - loss: 0.2686 - accuracy: 0.9221\n",
            "Epoch 67/100\n",
            "475/475 [==============================] - 0s 928us/step - loss: 0.2669 - accuracy: 0.9347\n",
            "Epoch 68/100\n",
            "475/475 [==============================] - 0s 912us/step - loss: 0.2674 - accuracy: 0.9516\n",
            "Epoch 69/100\n",
            "475/475 [==============================] - 0s 930us/step - loss: 0.2635 - accuracy: 0.9389\n",
            "Epoch 70/100\n",
            "475/475 [==============================] - 0s 929us/step - loss: 0.2670 - accuracy: 0.9411\n",
            "Epoch 71/100\n",
            "475/475 [==============================] - 0s 929us/step - loss: 0.2653 - accuracy: 0.9368\n",
            "Epoch 72/100\n",
            "475/475 [==============================] - 0s 963us/step - loss: 0.2616 - accuracy: 0.9432\n",
            "Epoch 73/100\n",
            "475/475 [==============================] - 0s 934us/step - loss: 0.2635 - accuracy: 0.9411\n",
            "Epoch 74/100\n",
            "475/475 [==============================] - 0s 934us/step - loss: 0.2615 - accuracy: 0.9411\n",
            "Epoch 75/100\n",
            "475/475 [==============================] - 0s 944us/step - loss: 0.2609 - accuracy: 0.9389\n",
            "Epoch 76/100\n",
            "475/475 [==============================] - 0s 941us/step - loss: 0.2622 - accuracy: 0.9347\n",
            "Epoch 77/100\n",
            "475/475 [==============================] - 0s 914us/step - loss: 0.2594 - accuracy: 0.9389\n",
            "Epoch 78/100\n",
            "475/475 [==============================] - 0s 938us/step - loss: 0.2598 - accuracy: 0.9368\n",
            "Epoch 79/100\n",
            "475/475 [==============================] - 0s 918us/step - loss: 0.2596 - accuracy: 0.9389\n",
            "Epoch 80/100\n",
            "475/475 [==============================] - 0s 978us/step - loss: 0.2576 - accuracy: 0.9411\n",
            "Epoch 81/100\n",
            "475/475 [==============================] - 0s 924us/step - loss: 0.2575 - accuracy: 0.9432\n",
            "Epoch 82/100\n",
            "475/475 [==============================] - 0s 918us/step - loss: 0.2564 - accuracy: 0.9411\n",
            "Epoch 83/100\n",
            "475/475 [==============================] - 0s 960us/step - loss: 0.2536 - accuracy: 0.9474\n",
            "Epoch 84/100\n",
            "475/475 [==============================] - 0s 936us/step - loss: 0.2550 - accuracy: 0.9305\n",
            "Epoch 85/100\n",
            "475/475 [==============================] - 0s 940us/step - loss: 0.2545 - accuracy: 0.9495\n",
            "Epoch 86/100\n",
            "475/475 [==============================] - 0s 916us/step - loss: 0.2545 - accuracy: 0.9411\n",
            "Epoch 87/100\n",
            "475/475 [==============================] - 0s 940us/step - loss: 0.2538 - accuracy: 0.9411\n",
            "Epoch 88/100\n",
            "475/475 [==============================] - 0s 940us/step - loss: 0.2521 - accuracy: 0.9432\n",
            "Epoch 89/100\n",
            "475/475 [==============================] - 0s 928us/step - loss: 0.2530 - accuracy: 0.9474\n",
            "Epoch 90/100\n",
            "475/475 [==============================] - 0s 947us/step - loss: 0.2530 - accuracy: 0.9347\n",
            "Epoch 91/100\n",
            "475/475 [==============================] - 0s 910us/step - loss: 0.2525 - accuracy: 0.9411\n",
            "Epoch 92/100\n",
            "475/475 [==============================] - 0s 925us/step - loss: 0.2505 - accuracy: 0.9495\n",
            "Epoch 93/100\n",
            "475/475 [==============================] - 0s 911us/step - loss: 0.2502 - accuracy: 0.9516\n",
            "Epoch 94/100\n",
            "475/475 [==============================] - 0s 942us/step - loss: 0.2516 - accuracy: 0.9411\n",
            "Epoch 95/100\n",
            "475/475 [==============================] - 0s 998us/step - loss: 0.2500 - accuracy: 0.9326\n",
            "Epoch 96/100\n",
            "475/475 [==============================] - 0s 950us/step - loss: 0.2477 - accuracy: 0.9474\n",
            "Epoch 97/100\n",
            "475/475 [==============================] - 0s 972us/step - loss: 0.2499 - accuracy: 0.9411\n",
            "Epoch 98/100\n",
            "475/475 [==============================] - 0s 945us/step - loss: 0.2480 - accuracy: 0.9453\n",
            "Epoch 99/100\n",
            "475/475 [==============================] - 0s 919us/step - loss: 0.2459 - accuracy: 0.9453\n",
            "Epoch 100/100\n",
            "475/475 [==============================] - 0s 931us/step - loss: 0.2497 - accuracy: 0.9347\n"
          ],
          "name": "stdout"
        },
        {
          "output_type": "execute_result",
          "data": {
            "text/plain": [
              "<tensorflow.python.keras.callbacks.History at 0x7fd9bb5bc898>"
            ]
          },
          "metadata": {
            "tags": []
          },
          "execution_count": 67
        }
      ]
    },
    {
      "cell_type": "code",
      "metadata": {
        "id": "ynGKzH14APcs",
        "colab_type": "code",
        "colab": {
          "base_uri": "https://localhost:8080/",
          "height": 50
        },
        "outputId": "ed071c46-a7c8-4c5e-fe8a-1153162893e4"
      },
      "source": [
        "model.evaluate(attribute_array_test,index_array_test,verbose=1)"
      ],
      "execution_count": 68,
      "outputs": [
        {
          "output_type": "stream",
          "text": [
            "1/1 [==============================] - 0s 2ms/step - loss: 18.2374 - accuracy: 0.7600\n"
          ],
          "name": "stdout"
        },
        {
          "output_type": "execute_result",
          "data": {
            "text/plain": [
              "[18.23735809326172, 0.7599999904632568]"
            ]
          },
          "metadata": {
            "tags": []
          },
          "execution_count": 68
        }
      ]
    },
    {
      "cell_type": "code",
      "metadata": {
        "id": "yUniaONfA1qo",
        "colab_type": "code",
        "colab": {
          "base_uri": "https://localhost:8080/",
          "height": 34
        },
        "outputId": "470cc42a-8f5a-498d-b94a-143970968be4"
      },
      "source": [
        "attribute_array_test_pred = model.predict(attribute_array_test)\n",
        "print('Accuracy Score : ' + str(accuracy_score(index_array_test, attribute_array_test_pred.round(), normalize=True)))"
      ],
      "execution_count": 69,
      "outputs": [
        {
          "output_type": "stream",
          "text": [
            "Accuracy Score : 0.76\n"
          ],
          "name": "stdout"
        }
      ]
    },
    {
      "cell_type": "code",
      "metadata": {
        "id": "J9fnr_RHBHVj",
        "colab_type": "code",
        "colab": {}
      },
      "source": [
        ""
      ],
      "execution_count": null,
      "outputs": []
    }
  ]
}