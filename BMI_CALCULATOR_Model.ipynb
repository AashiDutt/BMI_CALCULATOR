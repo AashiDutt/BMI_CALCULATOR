{
  "nbformat": 4,
  "nbformat_minor": 0,
  "metadata": {
    "colab": {
      "name": "BMI CALCULATOR Model.ipynb",
      "provenance": [],
      "collapsed_sections": [],
      "authorship_tag": "ABX9TyPYfN3xhRFTo+9/wmxpo1CU",
      "include_colab_link": true
    },
    "kernelspec": {
      "name": "python3",
      "display_name": "Python 3"
    }
  },
  "cells": [
    {
      "cell_type": "markdown",
      "metadata": {
        "id": "view-in-github",
        "colab_type": "text"
      },
      "source": [
        "<a href=\"https://colab.research.google.com/github/AashiDutt/BMI_CALCULATOR/blob/master/BMI_CALCULATOR_Model.ipynb\" target=\"_parent\"><img src=\"https://colab.research.google.com/assets/colab-badge.svg\" alt=\"Open In Colab\"/></a>"
      ]
    },
    {
      "cell_type": "code",
      "metadata": {
        "id": "2wqCSj1P2K1H",
        "colab_type": "code",
        "colab": {
          "base_uri": "https://localhost:8080/",
          "height": 35
        },
        "outputId": "51b07e8e-5884-4b38-b63b-e25d08aff145"
      },
      "source": [
        "import tensorflow as tf\n",
        "tf.__version__"
      ],
      "execution_count": 3,
      "outputs": [
        {
          "output_type": "execute_result",
          "data": {
            "application/vnd.google.colaboratory.intrinsic+json": {
              "type": "string"
            },
            "text/plain": [
              "'2.3.0'"
            ]
          },
          "metadata": {
            "tags": []
          },
          "execution_count": 3
        }
      ]
    },
    {
      "cell_type": "code",
      "metadata": {
        "id": "AZS0rzJK2QPc",
        "colab_type": "code",
        "colab": {}
      },
      "source": [
        "\n",
        "from tensorflow.keras.models import Sequential\n",
        "from tensorflow.keras.layers import Dense,Conv1D,Flatten\n",
        "from sklearn.preprocessing import StandardScaler\n",
        "from sklearn.model_selection import train_test_split\n",
        "from sklearn.metrics import accuracy_score"
      ],
      "execution_count": 4,
      "outputs": []
    },
    {
      "cell_type": "code",
      "metadata": {
        "id": "ZuGjaGEp2ZaZ",
        "colab_type": "code",
        "colab": {}
      },
      "source": [
        "model = Sequential([\n",
        "                    \n",
        "                    Dense(kernel_initializer = 'uniform', input_dim = 2, units = 10, activation = 'relu'),\n",
        "                    Dense(kernel_initializer = 'uniform', units = 6,  activation = 'softmax')\n",
        "])"
      ],
      "execution_count": 79,
      "outputs": []
    },
    {
      "cell_type": "code",
      "metadata": {
        "id": "yvjSgpGt2_Ls",
        "colab_type": "code",
        "colab": {
          "base_uri": "https://localhost:8080/",
          "height": 218
        },
        "outputId": "da418699-f114-4dfe-b8c2-117b390db261"
      },
      "source": [
        "model.summary()"
      ],
      "execution_count": 80,
      "outputs": [
        {
          "output_type": "stream",
          "text": [
            "Model: \"sequential_8\"\n",
            "_________________________________________________________________\n",
            "Layer (type)                 Output Shape              Param #   \n",
            "=================================================================\n",
            "dense_16 (Dense)             (None, 10)                30        \n",
            "_________________________________________________________________\n",
            "dense_17 (Dense)             (None, 6)                 66        \n",
            "=================================================================\n",
            "Total params: 96\n",
            "Trainable params: 96\n",
            "Non-trainable params: 0\n",
            "_________________________________________________________________\n"
          ],
          "name": "stdout"
        }
      ]
    },
    {
      "cell_type": "code",
      "metadata": {
        "id": "u2GbCPTg3Iwi",
        "colab_type": "code",
        "colab": {}
      },
      "source": [
        "\n",
        "model.compile(\n",
        "    optimizer = 'adam',\n",
        "    loss= 'categorical_crossentropy',\n",
        "    metrics=['accuracy']\n",
        ")"
      ],
      "execution_count": 81,
      "outputs": []
    },
    {
      "cell_type": "code",
      "metadata": {
        "id": "5dUU5dMU3mC6",
        "colab_type": "code",
        "colab": {
          "base_uri": "https://localhost:8080/",
          "height": 67
        },
        "outputId": "d9bd1f32-f5cd-4e87-f41f-2516427d7bde"
      },
      "source": [
        "print(model.loss)\n",
        "print(model.optimizer)\n",
        "print(model.metrics)"
      ],
      "execution_count": 82,
      "outputs": [
        {
          "output_type": "stream",
          "text": [
            "categorical_crossentropy\n",
            "<tensorflow.python.keras.optimizer_v2.adam.Adam object at 0x7feea90c92b0>\n",
            "[]\n"
          ],
          "name": "stdout"
        }
      ]
    },
    {
      "cell_type": "code",
      "metadata": {
        "id": "ZVjhda253yzl",
        "colab_type": "code",
        "colab": {}
      },
      "source": [
        "# from tensorflow.keras.preprocessing import image\n",
        "import matplotlib.pyplot as plt\n",
        "import numpy as np\n",
        "import pandas as pd"
      ],
      "execution_count": 83,
      "outputs": []
    },
    {
      "cell_type": "code",
      "metadata": {
        "id": "Thz8Q0Pw6yVn",
        "colab_type": "code",
        "colab": {}
      },
      "source": [
        "dataset = pd.read_csv(\"500_Person_Gender_Height_Weight_Index.csv\",delimiter=\",\")\n"
      ],
      "execution_count": 84,
      "outputs": []
    },
    {
      "cell_type": "code",
      "metadata": {
        "id": "RpjVECMO7tH6",
        "colab_type": "code",
        "colab": {
          "base_uri": "https://localhost:8080/",
          "height": 195
        },
        "outputId": "f0fcc102-4eed-445a-d259-79d0d0b4ac86"
      },
      "source": [
        "dataset.head()"
      ],
      "execution_count": 85,
      "outputs": [
        {
          "output_type": "execute_result",
          "data": {
            "text/html": [
              "<div>\n",
              "<style scoped>\n",
              "    .dataframe tbody tr th:only-of-type {\n",
              "        vertical-align: middle;\n",
              "    }\n",
              "\n",
              "    .dataframe tbody tr th {\n",
              "        vertical-align: top;\n",
              "    }\n",
              "\n",
              "    .dataframe thead th {\n",
              "        text-align: right;\n",
              "    }\n",
              "</style>\n",
              "<table border=\"1\" class=\"dataframe\">\n",
              "  <thead>\n",
              "    <tr style=\"text-align: right;\">\n",
              "      <th></th>\n",
              "      <th>Gender</th>\n",
              "      <th>Height</th>\n",
              "      <th>Weight</th>\n",
              "      <th>Index</th>\n",
              "    </tr>\n",
              "  </thead>\n",
              "  <tbody>\n",
              "    <tr>\n",
              "      <th>0</th>\n",
              "      <td>Male</td>\n",
              "      <td>174</td>\n",
              "      <td>96</td>\n",
              "      <td>4</td>\n",
              "    </tr>\n",
              "    <tr>\n",
              "      <th>1</th>\n",
              "      <td>Male</td>\n",
              "      <td>189</td>\n",
              "      <td>87</td>\n",
              "      <td>2</td>\n",
              "    </tr>\n",
              "    <tr>\n",
              "      <th>2</th>\n",
              "      <td>Female</td>\n",
              "      <td>185</td>\n",
              "      <td>110</td>\n",
              "      <td>4</td>\n",
              "    </tr>\n",
              "    <tr>\n",
              "      <th>3</th>\n",
              "      <td>Female</td>\n",
              "      <td>195</td>\n",
              "      <td>104</td>\n",
              "      <td>3</td>\n",
              "    </tr>\n",
              "    <tr>\n",
              "      <th>4</th>\n",
              "      <td>Male</td>\n",
              "      <td>149</td>\n",
              "      <td>61</td>\n",
              "      <td>3</td>\n",
              "    </tr>\n",
              "  </tbody>\n",
              "</table>\n",
              "</div>"
            ],
            "text/plain": [
              "   Gender  Height  Weight  Index\n",
              "0    Male     174      96      4\n",
              "1    Male     189      87      2\n",
              "2  Female     185     110      4\n",
              "3  Female     195     104      3\n",
              "4    Male     149      61      3"
            ]
          },
          "metadata": {
            "tags": []
          },
          "execution_count": 85
        }
      ]
    },
    {
      "cell_type": "code",
      "metadata": {
        "id": "GCUqMlmIt5GR",
        "colab_type": "code",
        "colab": {
          "base_uri": "https://localhost:8080/",
          "height": 34
        },
        "outputId": "80bc8724-83d3-4856-9a37-d49bb1df095b"
      },
      "source": [
        "dataset.shape"
      ],
      "execution_count": 86,
      "outputs": [
        {
          "output_type": "execute_result",
          "data": {
            "text/plain": [
              "(500, 4)"
            ]
          },
          "metadata": {
            "tags": []
          },
          "execution_count": 86
        }
      ]
    },
    {
      "cell_type": "code",
      "metadata": {
        "id": "FVq5t1kb9UjF",
        "colab_type": "code",
        "colab": {}
      },
      "source": [
        "attribute_array = dataset.iloc[:,1:3].values\n",
        "index_array = dataset.iloc[:,3].values"
      ],
      "execution_count": 87,
      "outputs": []
    },
    {
      "cell_type": "code",
      "metadata": {
        "id": "usZ7uiED-UJd",
        "colab_type": "code",
        "colab": {}
      },
      "source": [
        "from sklearn.preprocessing import LabelEncoder\n",
        "from keras.utils import np_utils"
      ],
      "execution_count": 88,
      "outputs": []
    },
    {
      "cell_type": "code",
      "metadata": {
        "id": "h4wIPETn99B1",
        "colab_type": "code",
        "colab": {}
      },
      "source": [
        "encoder = LabelEncoder()\n",
        "index_array = encoder.fit_transform(index_array)\n",
        "index_array = np_utils.to_categorical(index_array)"
      ],
      "execution_count": 89,
      "outputs": []
    },
    {
      "cell_type": "code",
      "metadata": {
        "id": "y_qKgo74-PzJ",
        "colab_type": "code",
        "colab": {}
      },
      "source": [
        "attribute_array_train, attribute_array_test, index_array_train, index_array_test = train_test_split(attribute_array, index_array, test_size=0.05, random_state=1)"
      ],
      "execution_count": 90,
      "outputs": []
    },
    {
      "cell_type": "code",
      "metadata": {
        "id": "Xl4HFKWB-rU7",
        "colab_type": "code",
        "colab": {}
      },
      "source": [
        "scaler = StandardScaler()\n",
        "attribute_array_train = scaler.fit_transform(attribute_array_train)"
      ],
      "execution_count": 91,
      "outputs": []
    },
    {
      "cell_type": "code",
      "metadata": {
        "id": "Xe3MKqyc-upX",
        "colab_type": "code",
        "colab": {
          "base_uri": "https://localhost:8080/",
          "height": 1000
        },
        "outputId": "5444ba3a-9105-4076-9a45-879b378ed072"
      },
      "source": [
        "model.fit(attribute_array_train,index_array_train,batch_size= 1,epochs = 100,verbose = 1)"
      ],
      "execution_count": 92,
      "outputs": [
        {
          "output_type": "stream",
          "text": [
            "Epoch 1/100\n",
            "475/475 [==============================] - 0s 774us/step - loss: 1.4566 - accuracy: 0.4400\n",
            "Epoch 2/100\n",
            "475/475 [==============================] - 0s 730us/step - loss: 0.9739 - accuracy: 0.6021\n",
            "Epoch 3/100\n",
            "475/475 [==============================] - 0s 724us/step - loss: 0.8111 - accuracy: 0.7137\n",
            "Epoch 4/100\n",
            "475/475 [==============================] - 0s 698us/step - loss: 0.7265 - accuracy: 0.7474\n",
            "Epoch 5/100\n",
            "475/475 [==============================] - 0s 717us/step - loss: 0.6696 - accuracy: 0.7832\n",
            "Epoch 6/100\n",
            "475/475 [==============================] - 0s 755us/step - loss: 0.6220 - accuracy: 0.8547\n",
            "Epoch 7/100\n",
            "475/475 [==============================] - 0s 718us/step - loss: 0.5856 - accuracy: 0.8421\n",
            "Epoch 8/100\n",
            "475/475 [==============================] - 0s 725us/step - loss: 0.5542 - accuracy: 0.8568\n",
            "Epoch 9/100\n",
            "475/475 [==============================] - 0s 759us/step - loss: 0.5251 - accuracy: 0.8674\n",
            "Epoch 10/100\n",
            "475/475 [==============================] - 0s 745us/step - loss: 0.4999 - accuracy: 0.8589\n",
            "Epoch 11/100\n",
            "475/475 [==============================] - 0s 720us/step - loss: 0.4810 - accuracy: 0.8884\n",
            "Epoch 12/100\n",
            "475/475 [==============================] - 0s 718us/step - loss: 0.4608 - accuracy: 0.8821\n",
            "Epoch 13/100\n",
            "475/475 [==============================] - 0s 719us/step - loss: 0.4456 - accuracy: 0.8905\n",
            "Epoch 14/100\n",
            "475/475 [==============================] - 0s 719us/step - loss: 0.4297 - accuracy: 0.8947\n",
            "Epoch 15/100\n",
            "475/475 [==============================] - 0s 725us/step - loss: 0.4193 - accuracy: 0.8989\n",
            "Epoch 16/100\n",
            "475/475 [==============================] - 0s 725us/step - loss: 0.4088 - accuracy: 0.8947\n",
            "Epoch 17/100\n",
            "475/475 [==============================] - 0s 702us/step - loss: 0.3991 - accuracy: 0.9011\n",
            "Epoch 18/100\n",
            "475/475 [==============================] - 0s 737us/step - loss: 0.3896 - accuracy: 0.9053\n",
            "Epoch 19/100\n",
            "475/475 [==============================] - 0s 725us/step - loss: 0.3822 - accuracy: 0.8947\n",
            "Epoch 20/100\n",
            "475/475 [==============================] - 0s 732us/step - loss: 0.3753 - accuracy: 0.9032\n",
            "Epoch 21/100\n",
            "475/475 [==============================] - 0s 710us/step - loss: 0.3675 - accuracy: 0.9032\n",
            "Epoch 22/100\n",
            "475/475 [==============================] - 0s 736us/step - loss: 0.3627 - accuracy: 0.9074\n",
            "Epoch 23/100\n",
            "475/475 [==============================] - 0s 724us/step - loss: 0.3525 - accuracy: 0.9200\n",
            "Epoch 24/100\n",
            "475/475 [==============================] - 0s 730us/step - loss: 0.3489 - accuracy: 0.9200\n",
            "Epoch 25/100\n",
            "475/475 [==============================] - 0s 739us/step - loss: 0.3446 - accuracy: 0.9074\n",
            "Epoch 26/100\n",
            "475/475 [==============================] - 0s 719us/step - loss: 0.3412 - accuracy: 0.9200\n",
            "Epoch 27/100\n",
            "475/475 [==============================] - 0s 720us/step - loss: 0.3369 - accuracy: 0.9095\n",
            "Epoch 28/100\n",
            "475/475 [==============================] - 0s 732us/step - loss: 0.3330 - accuracy: 0.9158\n",
            "Epoch 29/100\n",
            "475/475 [==============================] - 0s 718us/step - loss: 0.3289 - accuracy: 0.9137\n",
            "Epoch 30/100\n",
            "475/475 [==============================] - 0s 713us/step - loss: 0.3264 - accuracy: 0.9242\n",
            "Epoch 31/100\n",
            "475/475 [==============================] - 0s 721us/step - loss: 0.3222 - accuracy: 0.9158\n",
            "Epoch 32/100\n",
            "475/475 [==============================] - 0s 722us/step - loss: 0.3197 - accuracy: 0.9095\n",
            "Epoch 33/100\n",
            "475/475 [==============================] - 0s 721us/step - loss: 0.3157 - accuracy: 0.9284\n",
            "Epoch 34/100\n",
            "475/475 [==============================] - 0s 804us/step - loss: 0.3142 - accuracy: 0.9137\n",
            "Epoch 35/100\n",
            "475/475 [==============================] - 0s 734us/step - loss: 0.3109 - accuracy: 0.9263\n",
            "Epoch 36/100\n",
            "475/475 [==============================] - 0s 714us/step - loss: 0.3089 - accuracy: 0.9116\n",
            "Epoch 37/100\n",
            "475/475 [==============================] - 0s 732us/step - loss: 0.3062 - accuracy: 0.9200\n",
            "Epoch 38/100\n",
            "475/475 [==============================] - 0s 738us/step - loss: 0.3048 - accuracy: 0.9137\n",
            "Epoch 39/100\n",
            "475/475 [==============================] - 0s 720us/step - loss: 0.3022 - accuracy: 0.9284\n",
            "Epoch 40/100\n",
            "475/475 [==============================] - 0s 730us/step - loss: 0.3004 - accuracy: 0.9242\n",
            "Epoch 41/100\n",
            "475/475 [==============================] - 0s 780us/step - loss: 0.2993 - accuracy: 0.9221\n",
            "Epoch 42/100\n",
            "475/475 [==============================] - 0s 718us/step - loss: 0.2974 - accuracy: 0.9389\n",
            "Epoch 43/100\n",
            "475/475 [==============================] - 0s 732us/step - loss: 0.2940 - accuracy: 0.9284\n",
            "Epoch 44/100\n",
            "475/475 [==============================] - 0s 729us/step - loss: 0.2935 - accuracy: 0.9221\n",
            "Epoch 45/100\n",
            "475/475 [==============================] - 0s 707us/step - loss: 0.2897 - accuracy: 0.9200\n",
            "Epoch 46/100\n",
            "475/475 [==============================] - 0s 717us/step - loss: 0.2901 - accuracy: 0.9305\n",
            "Epoch 47/100\n",
            "475/475 [==============================] - 0s 721us/step - loss: 0.2886 - accuracy: 0.9263\n",
            "Epoch 48/100\n",
            "475/475 [==============================] - 0s 728us/step - loss: 0.2869 - accuracy: 0.9305\n",
            "Epoch 49/100\n",
            "475/475 [==============================] - 0s 722us/step - loss: 0.2853 - accuracy: 0.9263\n",
            "Epoch 50/100\n",
            "475/475 [==============================] - 0s 709us/step - loss: 0.2845 - accuracy: 0.9432\n",
            "Epoch 51/100\n",
            "475/475 [==============================] - 0s 731us/step - loss: 0.2839 - accuracy: 0.9305\n",
            "Epoch 52/100\n",
            "475/475 [==============================] - 0s 732us/step - loss: 0.2803 - accuracy: 0.9474\n",
            "Epoch 53/100\n",
            "475/475 [==============================] - 0s 711us/step - loss: 0.2810 - accuracy: 0.9242\n",
            "Epoch 54/100\n",
            "475/475 [==============================] - 0s 706us/step - loss: 0.2785 - accuracy: 0.9284\n",
            "Epoch 55/100\n",
            "475/475 [==============================] - 0s 756us/step - loss: 0.2777 - accuracy: 0.9368\n",
            "Epoch 56/100\n",
            "475/475 [==============================] - 0s 725us/step - loss: 0.2761 - accuracy: 0.9432\n",
            "Epoch 57/100\n",
            "475/475 [==============================] - 0s 731us/step - loss: 0.2769 - accuracy: 0.9432\n",
            "Epoch 58/100\n",
            "475/475 [==============================] - 0s 724us/step - loss: 0.2762 - accuracy: 0.9263\n",
            "Epoch 59/100\n",
            "475/475 [==============================] - 0s 720us/step - loss: 0.2744 - accuracy: 0.9368\n",
            "Epoch 60/100\n",
            "475/475 [==============================] - 0s 719us/step - loss: 0.2714 - accuracy: 0.9558\n",
            "Epoch 61/100\n",
            "475/475 [==============================] - 0s 735us/step - loss: 0.2707 - accuracy: 0.9411\n",
            "Epoch 62/100\n",
            "475/475 [==============================] - 0s 744us/step - loss: 0.2702 - accuracy: 0.9474\n",
            "Epoch 63/100\n",
            "475/475 [==============================] - 0s 719us/step - loss: 0.2689 - accuracy: 0.9432\n",
            "Epoch 64/100\n",
            "475/475 [==============================] - 0s 741us/step - loss: 0.2685 - accuracy: 0.9411\n",
            "Epoch 65/100\n",
            "475/475 [==============================] - 0s 762us/step - loss: 0.2666 - accuracy: 0.9474\n",
            "Epoch 66/100\n",
            "475/475 [==============================] - 0s 709us/step - loss: 0.2661 - accuracy: 0.9411\n",
            "Epoch 67/100\n",
            "475/475 [==============================] - 0s 719us/step - loss: 0.2655 - accuracy: 0.9389\n",
            "Epoch 68/100\n",
            "475/475 [==============================] - 0s 723us/step - loss: 0.2645 - accuracy: 0.9495\n",
            "Epoch 69/100\n",
            "475/475 [==============================] - 0s 695us/step - loss: 0.2641 - accuracy: 0.9305\n",
            "Epoch 70/100\n",
            "475/475 [==============================] - 0s 736us/step - loss: 0.2625 - accuracy: 0.9368\n",
            "Epoch 71/100\n",
            "475/475 [==============================] - 0s 759us/step - loss: 0.2608 - accuracy: 0.9537\n",
            "Epoch 72/100\n",
            "475/475 [==============================] - 0s 728us/step - loss: 0.2633 - accuracy: 0.9389\n",
            "Epoch 73/100\n",
            "475/475 [==============================] - 0s 729us/step - loss: 0.2599 - accuracy: 0.9389\n",
            "Epoch 74/100\n",
            "475/475 [==============================] - 0s 721us/step - loss: 0.2601 - accuracy: 0.9347\n",
            "Epoch 75/100\n",
            "475/475 [==============================] - 0s 733us/step - loss: 0.2588 - accuracy: 0.9347\n",
            "Epoch 76/100\n",
            "475/475 [==============================] - 0s 731us/step - loss: 0.2566 - accuracy: 0.9453\n",
            "Epoch 77/100\n",
            "475/475 [==============================] - 0s 714us/step - loss: 0.2572 - accuracy: 0.9432\n",
            "Epoch 78/100\n",
            "475/475 [==============================] - 0s 715us/step - loss: 0.2563 - accuracy: 0.9347\n",
            "Epoch 79/100\n",
            "475/475 [==============================] - 0s 724us/step - loss: 0.2511 - accuracy: 0.9389\n",
            "Epoch 80/100\n",
            "475/475 [==============================] - 0s 731us/step - loss: 0.2567 - accuracy: 0.9305\n",
            "Epoch 81/100\n",
            "475/475 [==============================] - 0s 725us/step - loss: 0.2528 - accuracy: 0.9411\n",
            "Epoch 82/100\n",
            "475/475 [==============================] - 0s 742us/step - loss: 0.2539 - accuracy: 0.9411\n",
            "Epoch 83/100\n",
            "475/475 [==============================] - 0s 721us/step - loss: 0.2542 - accuracy: 0.9368\n",
            "Epoch 84/100\n",
            "475/475 [==============================] - 0s 727us/step - loss: 0.2512 - accuracy: 0.9474\n",
            "Epoch 85/100\n",
            "475/475 [==============================] - 0s 729us/step - loss: 0.2500 - accuracy: 0.9411\n",
            "Epoch 86/100\n",
            "475/475 [==============================] - 0s 724us/step - loss: 0.2510 - accuracy: 0.9368\n",
            "Epoch 87/100\n",
            "475/475 [==============================] - 0s 733us/step - loss: 0.2504 - accuracy: 0.9474\n",
            "Epoch 88/100\n",
            "475/475 [==============================] - 0s 731us/step - loss: 0.2505 - accuracy: 0.9389\n",
            "Epoch 89/100\n",
            "475/475 [==============================] - 0s 713us/step - loss: 0.2515 - accuracy: 0.9432\n",
            "Epoch 90/100\n",
            "475/475 [==============================] - 0s 736us/step - loss: 0.2493 - accuracy: 0.9474\n",
            "Epoch 91/100\n",
            "475/475 [==============================] - 0s 718us/step - loss: 0.2471 - accuracy: 0.9516\n",
            "Epoch 92/100\n",
            "475/475 [==============================] - 0s 725us/step - loss: 0.2485 - accuracy: 0.9432\n",
            "Epoch 93/100\n",
            "475/475 [==============================] - 0s 727us/step - loss: 0.2474 - accuracy: 0.9516\n",
            "Epoch 94/100\n",
            "475/475 [==============================] - 0s 717us/step - loss: 0.2463 - accuracy: 0.9432\n",
            "Epoch 95/100\n",
            "475/475 [==============================] - 0s 720us/step - loss: 0.2456 - accuracy: 0.9516\n",
            "Epoch 96/100\n",
            "475/475 [==============================] - 0s 755us/step - loss: 0.2450 - accuracy: 0.9474\n",
            "Epoch 97/100\n",
            "475/475 [==============================] - 0s 722us/step - loss: 0.2449 - accuracy: 0.9389\n",
            "Epoch 98/100\n",
            "475/475 [==============================] - 0s 727us/step - loss: 0.2455 - accuracy: 0.9389\n",
            "Epoch 99/100\n",
            "475/475 [==============================] - 0s 715us/step - loss: 0.2439 - accuracy: 0.9453\n",
            "Epoch 100/100\n",
            "475/475 [==============================] - 0s 734us/step - loss: 0.2446 - accuracy: 0.9432\n"
          ],
          "name": "stdout"
        },
        {
          "output_type": "execute_result",
          "data": {
            "text/plain": [
              "<tensorflow.python.keras.callbacks.History at 0x7feea901cf28>"
            ]
          },
          "metadata": {
            "tags": []
          },
          "execution_count": 92
        }
      ]
    },
    {
      "cell_type": "code",
      "metadata": {
        "id": "ynGKzH14APcs",
        "colab_type": "code",
        "colab": {
          "base_uri": "https://localhost:8080/",
          "height": 50
        },
        "outputId": "219de612-6547-4140-b7e5-1c373fb385cf"
      },
      "source": [
        "model.evaluate(attribute_array_test,index_array_test,verbose=1)"
      ],
      "execution_count": 93,
      "outputs": [
        {
          "output_type": "stream",
          "text": [
            "1/1 [==============================] - 0s 1ms/step - loss: 17.5437 - accuracy: 0.8000\n"
          ],
          "name": "stdout"
        },
        {
          "output_type": "execute_result",
          "data": {
            "text/plain": [
              "[17.543745040893555, 0.800000011920929]"
            ]
          },
          "metadata": {
            "tags": []
          },
          "execution_count": 93
        }
      ]
    },
    {
      "cell_type": "code",
      "metadata": {
        "id": "yUniaONfA1qo",
        "colab_type": "code",
        "colab": {
          "base_uri": "https://localhost:8080/",
          "height": 34
        },
        "outputId": "fd4c11b1-b2b8-459c-d529-7c0cf9d96e51"
      },
      "source": [
        "attribute_array_test_pred = model.predict(attribute_array_test)\n",
        "print('Accuracy Score : ' + str(accuracy_score(index_array_test, attribute_array_test_pred.round(), normalize=True)))"
      ],
      "execution_count": 94,
      "outputs": [
        {
          "output_type": "stream",
          "text": [
            "Accuracy Score : 0.8\n"
          ],
          "name": "stdout"
        }
      ]
    },
    {
      "cell_type": "code",
      "metadata": {
        "id": "J9fnr_RHBHVj",
        "colab_type": "code",
        "colab": {}
      },
      "source": [
        ""
      ],
      "execution_count": null,
      "outputs": []
    }
  ]
}